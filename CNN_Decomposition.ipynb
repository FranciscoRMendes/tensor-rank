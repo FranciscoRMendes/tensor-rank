{
  "nbformat": 4,
  "nbformat_minor": 0,
  "metadata": {
    "colab": {
      "provenance": [],
      "gpuType": "T4",
      "authorship_tag": "ABX9TyMZa4KNjRA40wYBgOV4Yn1K",
      "include_colab_link": true
    },
    "kernelspec": {
      "name": "python3",
      "display_name": "Python 3"
    },
    "language_info": {
      "name": "python"
    },
    "accelerator": "GPU"
  },
  "cells": [
    {
      "cell_type": "markdown",
      "metadata": {
        "id": "view-in-github",
        "colab_type": "text"
      },
      "source": [
        "<a href=\"https://colab.research.google.com/github/FranciscoRMendes/tensor-rank/blob/main/CNN_Decomposition.ipynb\" target=\"_parent\"><img src=\"https://colab.research.google.com/assets/colab-badge.svg\" alt=\"Open In Colab\"/></a>"
      ]
    },
    {
      "cell_type": "code",
      "execution_count": 1,
      "metadata": {
        "id": "-jgzzuqBCH2I"
      },
      "outputs": [],
      "source": [
        "# !pip install calflops\n",
        "# !pip install tensorly\n",
        "import torch\n",
        "import torchvision\n",
        "import torchvision.transforms as transforms\n",
        "import matplotlib.pyplot as plt\n",
        "import numpy as np\n",
        "import torch.nn as nn\n",
        "import torch.nn.functional as F\n",
        "import torch.optim as optim\n",
        " import copy\n",
        "PATH = './cifar_net.pth'"
      ]
    },
    {
      "cell_type": "code",
      "source": [
        "transform = transforms.Compose(\n",
        "    [transforms.ToTensor(),\n",
        "     transforms.Normalize((0.5, 0.5, 0.5), (0.5, 0.5, 0.5))])\n",
        "\n",
        "batch_size = 4\n",
        "#\n",
        "trainset = torchvision.datasets.CIFAR10(root='./data', train=True,\n",
        "                                        download=True, transform=transform)\n",
        "trainloader = torch.utils.data.DataLoader(trainset, batch_size=batch_size,\n",
        "                                          shuffle=True, num_workers=2)\n",
        "#\n",
        "testset = torchvision.datasets.CIFAR10(root='./data', train=False,\n",
        "                                       download=True, transform=transform)\n",
        "testloader = torch.utils.data.DataLoader(testset, batch_size=batch_size,\n",
        "                                         shuffle=False, num_workers=2)\n",
        "\n",
        "classes = ('plane', 'car', 'bird', 'cat',\n",
        "           'deer', 'dog', 'frog', 'horse', 'ship', 'truck')\n",
        "\n",
        "\n",
        "def imshow(img):\n",
        "    img = img / 2 + 0.5     # unnormalize\n",
        "    npimg = img.numpy()\n",
        "    plt.imshow(np.transpose(npimg, (1, 2, 0)))\n",
        "    plt.show()\n",
        "\n",
        "\n",
        "# get some random training images\n",
        "dataiter = iter(trainloader)\n",
        "images, labels = next(dataiter)\n",
        "\n",
        "# show images\n",
        "imshow(torchvision.utils.make_grid(images))\n",
        "# print labels\n",
        "print(' '.join(f'{classes[labels[j]]:5s}' for j in range(batch_size)))"
      ],
      "metadata": {
        "colab": {
          "base_uri": "https://localhost:8080/",
          "height": 315
        },
        "id": "dNO4Zt5ECg4j",
        "outputId": "7fa8ccbc-73bc-40a1-fe7c-ba65a56766c8"
      },
      "execution_count": 2,
      "outputs": [
        {
          "output_type": "stream",
          "name": "stdout",
          "text": [
            "Downloading https://www.cs.toronto.edu/~kriz/cifar-10-python.tar.gz to ./data/cifar-10-python.tar.gz\n"
          ]
        },
        {
          "output_type": "stream",
          "name": "stderr",
          "text": [
            "100%|██████████| 170498071/170498071 [00:04<00:00, 39748541.55it/s]\n"
          ]
        },
        {
          "output_type": "stream",
          "name": "stdout",
          "text": [
            "Extracting ./data/cifar-10-python.tar.gz to ./data\n",
            "Files already downloaded and verified\n"
          ]
        },
        {
          "output_type": "stream",
          "name": "stderr",
          "text": [
            "/usr/lib/python3.10/multiprocessing/popen_fork.py:66: RuntimeWarning: os.fork() was called. os.fork() is incompatible with multithreaded code, and JAX is multithreaded, so this will likely lead to a deadlock.\n",
            "  self.pid = os.fork()\n"
          ]
        },
        {
          "output_type": "display_data",
          "data": {
            "text/plain": [
              "<Figure size 640x480 with 1 Axes>"
            ],
            "image/png": "[encoded data removed]"
          },
          "metadata": {}
        },
        {
          "output_type": "stream",
          "name": "stdout",
          "text": [
            "truck truck deer  plane\n"
          ]
        }
      ]
    },
    {
      "cell_type": "markdown",
      "source": [
        "Start with a simple CNN for the CIFAR data set. This performs decently well, we will focus on optimizing the size with a relatively small loss in performance."
      ],
      "metadata": {
        "id": "bZ5FSq5lCMwG"
      }
    },
    {
      "cell_type": "code",
      "source": [
        "class Net(nn.Module):\n",
        "    def __init__(self):\n",
        "        super().__init__()\n",
        "        self.layers  = nn.ModuleDict()\n",
        "        self.layers['conv1'] = nn.Conv2d(3, 6, 5)\n",
        "        self.layers['pool'] = nn.MaxPool2d(2, 2)\n",
        "        self.layers['conv2'] = nn.Conv2d(6, 16, 5)\n",
        "        self.layers['fc1'] = nn.Linear(16 * 5 * 5, 120)\n",
        "        self.layers['fc2'] = nn.Linear(120, 84)\n",
        "        self.layers['fc3'] = nn.Linear(84, 10)\n",
        "\n",
        "    def forward(self,x):\n",
        "        x = self.layers['pool'](F.relu(self.layers['conv1'](x)))\n",
        "        x = self.layers['pool'](F.relu(self.layers['conv2'](x)))\n",
        "        x = torch.flatten(x, 1)\n",
        "        x = F.relu(self.layers['fc1'](x))\n",
        "        x = F.relu(self.layers['fc2'](x))\n",
        "        x = self.layers['fc3'](x)\n",
        "        return x"
      ],
      "metadata": {
        "id": "9da9KWI2CZYr"
      },
      "execution_count": 3,
      "outputs": []
    },
    {
      "cell_type": "markdown",
      "source": [
        "Do a basic train run"
      ],
      "metadata": {
        "id": "cghKwtzoCk4W"
      }
    },
    {
      "cell_type": "code",
      "source": [
        "net = Net()\n",
        "\n",
        "# Define the loss function\n",
        "criterion = nn.CrossEntropyLoss()\n",
        "\n",
        "# Define the optimizer (using SGD with a learning rate of 0.001 and momentum of 0.9)\n",
        "optimizer = optim.SGD(net.parameters(), lr=0.001, momentum=0.9)\n",
        "\n",
        "epochs = 1\n",
        "\n",
        "for epoch in range(epochs):  # loop over the dataset multiple times\n",
        "\n",
        "    running_loss = 0.0\n",
        "    for i, data in enumerate(trainloader, 0):\n",
        "        # get the inputs; data is a list of [inputs, labels]\n",
        "        inputs, labels = data\n",
        "\n",
        "        # zero the parameter gradients\n",
        "        optimizer.zero_grad()\n",
        "\n",
        "        # forward + backward + optimize\n",
        "        outputs = net(inputs)\n",
        "        loss = criterion(outputs, labels)\n",
        "        loss.backward()\n",
        "        optimizer.step()\n",
        "\n",
        "        # print statistics\n",
        "        running_loss += loss.item()\n",
        "        if i % 2000 == 1999:    # print every 2000 mini-batches\n",
        "            print(f'[{epoch + 1}, {i + 1:5d}] loss: {running_loss / 2000:.3f}')\n",
        "            running_loss = 0.0\n",
        "\n",
        "print('Finished Training')"
      ],
      "metadata": {
        "colab": {
          "base_uri": "https://localhost:8080/"
        },
        "id": "l7k6lg05CmZ0",
        "outputId": "d128fb95-9b94-4718-a487-5faf601db2c7"
      },
      "execution_count": 4,
      "outputs": [
        {
          "output_type": "stream",
          "name": "stdout",
          "text": [
            "[1,  2000] loss: 2.208\n",
            "[1,  4000] loss: 1.878\n",
            "[1,  6000] loss: 1.672\n",
            "[1,  8000] loss: 1.566\n",
            "[1, 10000] loss: 1.524\n",
            "[1, 12000] loss: 1.469\n",
            "Finished Training\n"
          ]
        }
      ]
    },
    {
      "cell_type": "code",
      "source": [
        "from calflops import calculate_flops\n",
        "flops, macs, params = calculate_flops(model=net,\n",
        "                                      input_shape=(batch_size, 3, 32, 32),\n",
        "                                      print_results=False)\n",
        "print(f\"Number of FLOPS :{flops}\")\n",
        "print(f\"Number of params : {params}\")"
      ],
      "metadata": {
        "colab": {
          "base_uri": "https://localhost:8080/"
        },
        "id": "2WlYg6LGRpjv",
        "outputId": "9a00b735-ec05-4b08-87d9-d23cda7bf95d"
      },
      "execution_count": 40,
      "outputs": [
        {
          "output_type": "stream",
          "name": "stdout",
          "text": [
            "Number of FLOPS :5.29 MFLOPS\n",
            "Number of params : 62.01 K\n"
          ]
        }
      ]
    },
    {
      "cell_type": "code",
      "source": [
        "\"torch.save(net.state_dict(), PATH)"
      ],
      "metadata": {
        "id": "0A9H8H5dCnU6"
      },
      "execution_count": 5,
      "outputs": []
    },
    {
      "cell_type": "code",
      "source": [
        "checkpoint = torch.load(PATH)\n",
        "print(checkpoint.keys())\n",
        "# use pretrained model to predict on test data\n",
        "net.load_state_dict(checkpoint)\n",
        "print(net)"
      ],
      "metadata": {
        "colab": {
          "base_uri": "https://localhost:8080/"
        },
        "id": "JqfSC_3vOA_C",
        "outputId": "35efafab-514e-491c-e5de-eef8c8415ae5"
      },
      "execution_count": 14,
      "outputs": [
        {
          "output_type": "stream",
          "name": "stdout",
          "text": [
            "odict_keys(['layers.conv1.weight', 'layers.conv1.bias', 'layers.conv2.weight', 'layers.conv2.bias', 'layers.fc1.weight', 'layers.fc1.bias', 'layers.fc2.weight', 'layers.fc2.bias', 'layers.fc3.weight', 'layers.fc3.bias'])\n",
            "Net(\n",
            "  (layers): ModuleDict(\n",
            "    (conv1): Conv2d(3, 6, kernel_size=(5, 5), stride=(1, 1))\n",
            "    (pool): MaxPool2d(kernel_size=2, stride=2, padding=0, dilation=1, ceil_mode=False)\n",
            "    (conv2): Conv2d(6, 16, kernel_size=(5, 5), stride=(1, 1))\n",
            "    (fc1): Linear(in_features=400, out_features=120, bias=True)\n",
            "    (fc2): Linear(in_features=120, out_features=84, bias=True)\n",
            "    (fc3): Linear(in_features=84, out_features=10, bias=True)\n",
            "  )\n",
            ")\n"
          ]
        }
      ]
    },
    {
      "cell_type": "markdown",
      "source": [
        "get our baseline predictions\n"
      ],
      "metadata": {
        "id": "knl7cgV9CrlE"
      }
    },
    {
      "cell_type": "code",
      "source": [
        "# prepare to count predictions for each class\n",
        "correct_pred = {classname: 0 for classname in classes}\n",
        "total_pred = {classname: 0 for classname in classes}\n",
        "\n",
        "# again no gradients needed\n",
        "with torch.no_grad():\n",
        "    for data in testloader:\n",
        "        images, labels = data\n",
        "        outputs = net(images)\n",
        "        _, predictions = torch.max(outputs, 1)\n",
        "        # collect the correct predictions for each class\n",
        "        for label, prediction in zip(labels, predictions):\n",
        "            if label == prediction:\n",
        "                correct_pred[classes[label]] += 1\n",
        "            total_pred[classes[label]] += 1\n",
        "\n",
        "# print accuracy for each class\n",
        "for classname, correct_count in correct_pred.items():\n",
        "    accuracy = 100 * float(correct_count) / total_pred[classname]\n",
        "    print(f'Accuracy for class: {classname:5s} is {accuracy:.1f} %')"
      ],
      "metadata": {
        "colab": {
          "base_uri": "https://localhost:8080/"
        },
        "id": "DFhX0XJkCumn",
        "outputId": "ece0bcb9-1633-49db-9b88-d32aa83b3a2e"
      },
      "execution_count": 15,
      "outputs": [
        {
          "output_type": "stream",
          "name": "stderr",
          "text": [
            "/usr/lib/python3.10/multiprocessing/popen_fork.py:66: RuntimeWarning: os.fork() was called. os.fork() is incompatible with multithreaded code, and JAX is multithreaded, so this will likely lead to a deadlock.\n",
            "  self.pid = os.fork()\n",
            "/usr/lib/python3.10/multiprocessing/popen_fork.py:66: RuntimeWarning: os.fork() was called. os.fork() is incompatible with multithreaded code, and JAX is multithreaded, so this will likely lead to a deadlock.\n",
            "  self.pid = os.fork()\n"
          ]
        },
        {
          "output_type": "stream",
          "name": "stdout",
          "text": [
            "Accuracy for class: plane is 57.1 %\n",
            "Accuracy for class: car   is 75.0 %\n",
            "Accuracy for class: bird  is 29.9 %\n",
            "Accuracy for class: cat   is 33.8 %\n",
            "Accuracy for class: deer  is 36.5 %\n",
            "Accuracy for class: dog   is 28.0 %\n",
            "Accuracy for class: frog  is 63.6 %\n",
            "Accuracy for class: horse is 53.1 %\n",
            "Accuracy for class: ship  is 59.1 %\n",
            "Accuracy for class: truck is 45.3 %\n"
          ]
        }
      ]
    },
    {
      "cell_type": "code",
      "source": [
        "from TVBMF import EVBMF\n",
        "import tensorly as tl\n",
        "import numpy as np\n",
        "\n",
        "def est_rank(layer):\n",
        "    # this function takes a pytorch layer, factorizes it using EVBMF (Nakajima et.al)\n",
        "    # returns the maximal rank of the factors\n",
        "    W = layer.weight.data\n",
        "    mode3 = tl.base.unfold(W, 0)\n",
        "    mode4 = tl.base.unfold(W, 1)\n",
        "    diag_0 = EVBMF(torch.tensor(mode3))\n",
        "    diag_1 = EVBMF(torch.tensor(mode4))\n",
        "\n",
        "    # round to multiples of 16\n",
        "    return int(np.ceil(max([diag_0.shape[0], diag_1.shape[0]]) / 16) * 16)\n"
      ],
      "metadata": {
        "id": "s3oGpyKZDYHG"
      },
      "execution_count": 35,
      "outputs": []
    },
    {
      "cell_type": "code",
      "source": [
        "class lowRankNet(Net):\n",
        "\n",
        "    # this class inherits from the base Net class and factorizes the second convolutional layer (or any layer defined in layer_to_replace)\n",
        "    def __init__(self, original_network, decomp_func, rank_func):\n",
        "        super().__init__()\n",
        "        self.layers = nn.ModuleDict()\n",
        "        self.decomp_func = decomp_func\n",
        "        self.rank_func = rank_func\n",
        "        self.initialize_layers(original_network)\n",
        "\n",
        "    def initialize_layers(self, original_network):\n",
        "        # Make deep copy of the original network so that it doesn't get modified\n",
        "        og_network = copy.deepcopy(original_network)\n",
        "\n",
        "\n",
        "        # Getting first layer from the original network\n",
        "        layer_to_replace = \"conv2\"\n",
        "        # Remove the first layer\n",
        "        for i, layer in enumerate(og_network.layers):\n",
        "            if layer == layer_to_replace:\n",
        "                # decompose that layer\n",
        "                rank = self.rank_func(og_network.layers[layer])\n",
        "                decomp_layers = self.decomp_func(og_network.layers[layer], rank)\n",
        "                for j, decomp_layer in enumerate(decomp_layers):\n",
        "                    self.layers[layer + f\"_{j}\"] = decomp_layer\n",
        "            else:\n",
        "                self.layers[layer] = og_network.layers[layer]\n",
        "        # Add the decomposed layers at the position of the deleted layer\n",
        "\n",
        "    def forward(self, x, layer_to_replace=\"conv2\"):\n",
        "        x = self.layers['pool'](F.relu(self.layers['conv1'](x)))\n",
        "        # x = self.layers['pool'](F.relu(self.laye['conv2'](x)\n",
        "        x = self.layers['conv2_0'](x)\n",
        "        x = self.layers['conv2_1'](x)\n",
        "        x = self.layers['conv2_2'](x)\n",
        "        x = self.layers['pool'](F.relu(self.layers['conv2_3'](x)))\n",
        "        x = torch.flatten(x, 1)\n",
        "        x = F.relu(self.layers['fc1'](x))\n",
        "        x = F.relu(self.layers['fc2'](x))\n",
        "        x = self.layers['fc3'](x)\n",
        "        return x"
      ],
      "metadata": {
        "id": "dVKU1Ne7Oazi"
      },
      "execution_count": 24,
      "outputs": []
    },
    {
      "cell_type": "code",
      "source": [
        " from torch_cp_decomp import cp_decomposition_conv_layer\n",
        "\n",
        " decomp_func = cp_decomposition_conv_layer\n",
        " tl.set_backend(\"pytorch\")"
      ],
      "metadata": {
        "id": "te_J7VlGDua4"
      },
      "execution_count": 28,
      "outputs": []
    },
    {
      "cell_type": "code",
      "source": [
        "decomp_net = lowRankNet(net, rank_func=est_rank, decomp_func=decomp_func)\n",
        "decomp_net.initialize_layers(net)"
      ],
      "metadata": {
        "colab": {
          "base_uri": "https://localhost:8080/"
        },
        "id": "WeVgd3PZDvgn",
        "outputId": "eb2aa4cc-e702-4f0a-cb59-8061354bd975"
      },
      "execution_count": 29,
      "outputs": [
        {
          "output_type": "stream",
          "name": "stderr",
          "text": [
            "<ipython-input-16-cc58d7cd1a07>:12: UserWarning: To copy construct from a tensor, it is recommended to use sourceTensor.clone().detach() or sourceTensor.clone().detach().requires_grad_(True), rather than torch.tensor(sourceTensor).\n",
            "  diag_0 = EVBMF(torch.tensor(mode3))\n",
            "<ipython-input-16-cc58d7cd1a07>:13: UserWarning: To copy construct from a tensor, it is recommended to use sourceTensor.clone().detach() or sourceTensor.clone().detach().requires_grad_(True), rather than torch.tensor(sourceTensor).\n",
            "  diag_1 = EVBMF(torch.tensor(mode4))\n"
          ]
        }
      ]
    },
    {
      "cell_type": "code",
      "source": [
        "decomp_net"
      ],
      "metadata": {
        "colab": {
          "base_uri": "https://localhost:8080/"
        },
        "id": "JSVqle4bOcx-",
        "outputId": "bb027cd2-5a66-448c-c9e8-87085af002f2"
      },
      "execution_count": 30,
      "outputs": [
        {
          "output_type": "execute_result",
          "data": {
            "text/plain": [
              "lowRankNet(\n",
              "  (layers): ModuleDict(\n",
              "    (conv1): Conv2d(3, 6, kernel_size=(5, 5), stride=(1, 1))\n",
              "    (pool): MaxPool2d(kernel_size=2, stride=2, padding=0, dilation=1, ceil_mode=False)\n",
              "    (conv2_0): Conv2d(6, 16, kernel_size=(1, 1), stride=(1, 1), bias=False)\n",
              "    (conv2_1): Conv2d(16, 16, kernel_size=(5, 1), stride=(1, 1), groups=16, bias=False)\n",
              "    (conv2_2): Conv2d(16, 16, kernel_size=(1, 5), stride=(1, 1), groups=16, bias=False)\n",
              "    (conv2_3): Conv2d(16, 16, kernel_size=(1, 1), stride=(1, 1))\n",
              "    (fc1): Linear(in_features=400, out_features=120, bias=True)\n",
              "    (fc2): Linear(in_features=120, out_features=84, bias=True)\n",
              "    (fc3): Linear(in_features=84, out_features=10, bias=True)\n",
              "  )\n",
              ")"
            ]
          },
          "metadata": {},
          "execution_count": 30
        }
      ]
    },
    {
      "cell_type": "code",
      "source": [
        "correct_pred = {classname: 0 for classname in classes}\n",
        "total_pred = {classname: 0 for classname in classes}\n",
        "\n",
        "# again no gradients needed\n",
        "with torch.no_grad():\n",
        "    for data in testloader:\n",
        "        images, labels = data\n",
        "        outputs = decomp_net(images)\n",
        "        _, predictions = torch.max(outputs, 1)\n",
        "        # collect the correct predictions for each class\n",
        "        for label, prediction in zip(labels, predictions):\n",
        "            if label == prediction:\n",
        "                correct_pred[classes[label]] += 1\n",
        "            total_pred[classes[label]] += 1\n",
        "\n",
        "# print accuracy for each class\n",
        "for classname, correct_count in correct_pred.items():\n",
        "    accuracy = 100 * float(correct_count) / total_pred[classname]\n",
        "    print(f'Lite Accuracy for class: {classname:5s} is {accuracy:.1f} %')"
      ],
      "metadata": {
        "colab": {
          "base_uri": "https://localhost:8080/"
        },
        "id": "SiSXQKm_PB1k",
        "outputId": "c0a9b028-ed6b-4b6a-83ef-e6dd1fa6644d"
      },
      "execution_count": 32,
      "outputs": [
        {
          "output_type": "stream",
          "name": "stderr",
          "text": [
            "/usr/lib/python3.10/multiprocessing/popen_fork.py:66: RuntimeWarning: os.fork() was called. os.fork() is incompatible with multithreaded code, and JAX is multithreaded, so this will likely lead to a deadlock.\n",
            "  self.pid = os.fork()\n",
            "/usr/lib/python3.10/multiprocessing/popen_fork.py:66: RuntimeWarning: os.fork() was called. os.fork() is incompatible with multithreaded code, and JAX is multithreaded, so this will likely lead to a deadlock.\n",
            "  self.pid = os.fork()\n"
          ]
        },
        {
          "output_type": "stream",
          "name": "stdout",
          "text": [
            "Lite Accuracy for class: plane is 57.9 %\n",
            "Lite Accuracy for class: car   is 75.7 %\n",
            "Lite Accuracy for class: bird  is 30.3 %\n",
            "Lite Accuracy for class: cat   is 33.2 %\n",
            "Lite Accuracy for class: deer  is 37.9 %\n",
            "Lite Accuracy for class: dog   is 27.1 %\n",
            "Lite Accuracy for class: frog  is 62.6 %\n",
            "Lite Accuracy for class: horse is 49.8 %\n",
            "Lite Accuracy for class: ship  is 59.2 %\n",
            "Lite Accuracy for class: truck is 41.6 %\n"
          ]
        }
      ]
    },
    {
      "cell_type": "code",
      "source": [
        "from calflops import calculate_flops\n",
        "flops, macs, params = calculate_flops(model=decomp_net,\n",
        "                                      input_shape=(batch_size, 3, 32, 32),\n",
        "                                      print_results=False)\n",
        "print(f\"Number of FLOPS :{flops}\")\n",
        "print(f\"Number of params : {params}\")"
      ],
      "metadata": {
        "colab": {
          "base_uri": "https://localhost:8080/"
        },
        "id": "apYoM6xQPGCD",
        "outputId": "1e953ca1-a8a2-49ce-a958-a0cfe8249c2a"
      },
      "execution_count": 41,
      "outputs": [
        {
          "output_type": "stream",
          "name": "stdout",
          "text": [
            "Number of FLOPS :3.88 MFLOPS\n",
            "Number of params : 60.12 K\n"
          ]
        }
      ]
    },
    {
      "cell_type": "code",
      "source": [],
      "metadata": {
        "id": "54UP93XvR0Wv"
      },
      "execution_count": null,
      "outputs": []
    }
  ]
}